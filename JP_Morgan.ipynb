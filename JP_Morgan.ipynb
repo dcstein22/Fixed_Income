{
 "cells": [
  {
   "attachments": {},
   "cell_type": "markdown",
   "metadata": {},
   "source": [
    "# JP Morgan | Interest Rate Mathematics\n"
   ]
  },
  {
   "cell_type": "code",
   "execution_count": 231,
   "metadata": {},
   "outputs": [],
   "source": [
    "from Binomial_Fixed import ratecurves\n",
    "from Binomial_Fixed import treasury_cmds\n",
    "import pandas as pd\n",
    "import numpy as np\n",
    "import datetime as dt\n",
    "from scipy.optimize import fsolve"
   ]
  },
  {
   "cell_type": "code",
   "execution_count": 232,
   "metadata": {},
   "outputs": [],
   "source": [
    "\n",
    "\n",
    "# Initialize the paramaters of the loan\n",
    "loan_amount = 18000\n",
    "apr = 5.29\n",
    "loan_term = 60\n",
    "\n",
    "# Get a monthly percentage rate\n",
    "apr /= 100\n",
    "mpr = apr / 12\n",
    "\n",
    "# Calculate the Monthly Payment for a loan\n",
    "monthly_payment = (loan_amount * mpr)/(1-(1+mpr) ** -loan_term)\n",
    "\n",
    "def make_payment(principal, mpr, monthly_payment):\n",
    "    '''Makes a 'payment' by subtracting and updated payment amount from the \n",
    "    principal. Returns the principal remaining, and the amount of principal and interest paid\n",
    "    '''\n",
    "\n",
    "    current_interest_payment = principal * mpr\n",
    "    current_principal_payment = monthly_payment - current_interest_payment\n",
    "    \n",
    "    principal -= current_principal_payment\n",
    "    \n",
    "    return [round(principal, 2), round(current_principal_payment, 2), round(current_interest_payment, 2)] \n",
    "\n",
    "def main(principal, term_remaining, monthly_payment, mpr):\n",
    "    '''Returns an Amortization Table in the form of a DataFrame\n",
    "    '''\n",
    "    \n",
    "    payments = [[principal, 0, 0, 0]]\n",
    "    total_interest = 0\n",
    "    \n",
    "    while principal > 0 and term_remaining > 0:\n",
    "        payment = make_payment(principal, mpr, monthly_payment)\n",
    "        principal = payment[0]\n",
    "        term_remaining -= 1\n",
    "        total_interest += payment[2]\n",
    "        payment.append(total_interest)\n",
    "        payments.append(payment)\n",
    "\n",
    "    amortization_table = pd.DataFrame(data=payments,\n",
    "                                      columns=['Principal Remaining',\n",
    "                                              'Current Principal Payment',\n",
    "                                              'Current Interest Payment',\n",
    "                                              'Total Interest Paid'])\n",
    "    return amortization_table"
   ]
  },
  {
   "cell_type": "code",
   "execution_count": 233,
   "metadata": {},
   "outputs": [],
   "source": [
    "schedule = main(loan_amount, loan_term, monthly_payment,mpr)"
   ]
  },
  {
   "cell_type": "code",
   "execution_count": 234,
   "metadata": {},
   "outputs": [],
   "source": [
    "def compound_to_equivalent(rate:float, initial_compound_freq: int,compound_freq:int):\n",
    "    \"\"\"\n",
    "    rate: enter interest rate (Example: 4.23)\n",
    "    initial_compound_freq: number of periods interest is paid\n",
    "    compound_freq: frequency you want interest to be compounded (set equal to 1 to get effective annual rate)\n",
    "    returns equivalent interest rate \n",
    "\n",
    "    \"\"\"\n",
    "    rate=  rate*1e-2\n",
    "    Rc = initial_compound_freq*np.log(1+(rate/initial_compound_freq))\n",
    "    annual_rate = compound_freq*(np.exp(Rc/compound_freq)-1)\n",
    "    #annual_rate = (1+(rate/compound))**(compound) -1\n",
    "    return f\"Equivalent Annual Interest Rate is {annual_rate :.2%}.\"\n",
    "def compound_to_continuous(rate:float,compound_freq:int):\n",
    "    \"\"\"\n",
    "    rate: enter interest rate(Example 3.202)\n",
    "    compound_freq: enter interval that represents number of times interest is compounded per annum\n",
    "    returns equivalent continously compounded rate\n",
    "    \"\"\"\n",
    "    rate = rate*1e-2\n",
    "    Rc = compound_freq*np.log(1+(rate/compound_freq))\n",
    "    return f\"Continuously compounded equivalent rate is {Rc :.2%}.\"\n",
    "\n",
    "def calculate_interest_accrued(rate:float,Notional:float,compound:int,coup_0:str,date_0:str,next_coup_date:str):\n",
    "\n",
    "    \"\"\"\n",
    "    rate: enter interest rate(Example 3.202)\n",
    "    Notional: Notional value of investment\n",
    "    compound_freq : enter number of times interest is paid\n",
    "    coup_0: last coupon date (Example: '2005-08-22')\n",
    "    date_0: current date \n",
    "    next_coup_date: next coupon date\n",
    "    returns interest accrued during time period\n",
    "    \"\"\"\n",
    "    rate = rate*1e-2\n",
    "    N = Notional\n",
    "    coup_0 = dt.datetime.strptime(coup_0,\"%Y-%m-%d\")\n",
    "    date_0 = dt.datetime.strptime(date_0,\"%Y-%m-%d\")\n",
    "    next_coup_date = dt.datetime.strptime(next_coup_date,\"%Y-%m-%d\")\n",
    "    ref_period = (next_coup_date-coup_0).days\n",
    "    actual_days = (date_0-coup_0).days\n",
    "    frac_days = actual_days/360\n",
    "    accrued = (N)*(rate*frac_days)\n",
    "    return np.round(accrued,2)\n",
    "\n",
    "\n",
    "    \n",
    "    \n",
    "\n",
    "\n"
   ]
  },
  {
   "cell_type": "code",
   "execution_count": 235,
   "metadata": {},
   "outputs": [
    {
     "data": {
      "text/plain": [
       "'Equivalent Annual Interest Rate is 4.95%.'"
      ]
     },
     "execution_count": 235,
     "metadata": {},
     "output_type": "execute_result"
    }
   ],
   "source": [
    "compound_to_equivalent(5,2,12)"
   ]
  },
  {
   "cell_type": "code",
   "execution_count": 236,
   "metadata": {},
   "outputs": [
    {
     "data": {
      "text/plain": [
       "3194.44"
      ]
     },
     "execution_count": 236,
     "metadata": {},
     "output_type": "execute_result"
    }
   ],
   "source": [
    "calculate_interest_accrued(rate = 6.25,Notional=100000,compound = 2,coup_0='2023-03-15',date_0='2023-09-15',next_coup_date='2023-09-15')"
   ]
  },
  {
   "cell_type": "code",
   "execution_count": 237,
   "metadata": {},
   "outputs": [
    {
     "data": {
      "text/plain": [
       "2.76"
      ]
     },
     "execution_count": 237,
     "metadata": {},
     "output_type": "execute_result"
    }
   ],
   "source": [
    "calculate_interest_accrued(8,100,2,'2023-03-01',date_0='2023-07-03',next_coup_date='2023-09-01')"
   ]
  },
  {
   "cell_type": "code",
   "execution_count": 238,
   "metadata": {},
   "outputs": [
    {
     "data": {
      "text/plain": [
       "'Continuously compounded equivalent rate is 4.94%.'"
      ]
     },
     "execution_count": 238,
     "metadata": {},
     "output_type": "execute_result"
    }
   ],
   "source": [
    "compound_to_continuous(5,2)"
   ]
  },
  {
   "cell_type": "code",
   "execution_count": 240,
   "metadata": {},
   "outputs": [
    {
     "data": {
      "text/plain": [
       "18000.000000000004"
      ]
     },
     "execution_count": 240,
     "metadata": {},
     "output_type": "execute_result"
    }
   ],
   "source": [
    "schedule['Current Principal Payment'].sum()"
   ]
  },
  {
   "cell_type": "code",
   "execution_count": 241,
   "metadata": {},
   "outputs": [
    {
     "data": {
      "text/plain": [
       "2524.7400000000002"
      ]
     },
     "execution_count": 241,
     "metadata": {},
     "output_type": "execute_result"
    }
   ],
   "source": [
    "schedule['Current Interest Payment'].sum()"
   ]
  },
  {
   "cell_type": "code",
   "execution_count": 244,
   "metadata": {},
   "outputs": [],
   "source": [
    "def NPV(CFS:list,discount_rate:float):\n",
    "    \"\"\"\n",
    "    CFS: list of cash flows\n",
    "    discount_rate: market discount rate\n",
    "\n",
    "    \"\"\"\n",
    "    npv = 0\n",
    "    r = discount_rate*1e-2\n",
    "    for t, cf in enumerate(CFS):\n",
    "        npv += cf/((1+r)**(t))\n",
    "    return np.round(npv,2)\n",
    "def IRR(CFS:list):\n",
    "    irr_wrapper = lambda r: NPV(CFS= CFS,discount_rate=r)\n",
    "    return np.round(fsolve(irr_wrapper,.2)[0],2)"
   ]
  },
  {
   "cell_type": "code",
   "execution_count": 249,
   "metadata": {},
   "outputs": [],
   "source": [
    "def PV(CF_Payment:float,discount_rate:float, T:int,freq: int):\n",
    "    \"\"\"\n",
    "    CF_Payment: Payment Per Year\n",
    "    discount_rate: current market interest rate (Example 4.21)\n",
    "    T: Number of Years\n",
    "    freq: Frequency of Cashflow per year\n",
    "    returns present value of cash flows\n",
    "    \"\"\"\n",
    "    CF = CF_Payment/freq\n",
    "    r = (discount_rate*1e-2)/freq\n",
    "    m_n = T*freq\n",
    "    fac2 = r*((1+r)**(m_n))\n",
    "    discount_factor = (1/r - (1/fac2))\n",
    "    Present_value = CF*(discount_factor)\n",
    "\n",
    "    return f\"PV is {Present_value :,.2f}.\"\n",
    "def PV_Bond(Notional:float,cpn:float,discount_rate:float,T:int,cpn_freq:int):\n",
    "    \"\"\"\n",
    "    Notional: Bond principal\n",
    "    cpn: coupon rate (example: 5.12)\n",
    "    discount_rate : market discount rate (example 3.44)\n",
    "    T: Time to maturity\n",
    "    cpn_freq: times interest is paid\n",
    "\n",
    "\n",
    "    \"\"\"\n",
    "    cpn = cpn*1e-2\n",
    "    r = (discount_rate*1e-2)/cpn_freq\n",
    "    CF = (Notional/cpn_freq)*(cpn)\n",
    "    m_n = T*cpn_freq\n",
    "    fac2 = r*((1+r)**(m_n))\n",
    "    discount_factor = (1/r - (1/fac2))\n",
    "    notional_discount = Notional/((1+r)**(m_n))\n",
    "    final_value = CF*(discount_factor) + notional_discount\n",
    "    return f\"PV of bond is {final_value :,.2f}\"\n",
    "def morgate_payment(loan_value:float,interest:float,T:int):\n",
    "    \n",
    "    \"\"\"\n",
    "    loan_value: amount of initial loan\n",
    "    interest: interest paid on the loan\n",
    "    T: maturity of mortgage\n",
    "    returns monthly mortgage payment\n",
    "\n",
    "\n",
    "    \"\"\"\n",
    "    \n",
    "    freq = 12\n",
    "    r = (interest*1e-2)/freq\n",
    "    m_n = T*freq\n",
    "    #cf = (loan_value/freq)*r\n",
    "    fac2 = r*((1+r)**(m_n))\n",
    "    annuity = (1/r - (1/fac2))\n",
    "    PMT = loan_value/annuity\n",
    "    return np.round(PMT,2)\n",
    "def calculate_number_periods(FV:float,Present_Value:float,cpn:float,cpn_freq:int):\n",
    "    \"\"\"\n",
    "    FV : Future Value of Investment\n",
    "    Present_Value: Present_value of Investment\n",
    "    cpn: coupon interest (enter 4.22)\n",
    "    cpn_freq: frequency of interest payment\n",
    "    returns number of periods for life of security\n",
    "    \"\"\"\n",
    "    cpn= (cpn*1e-2)/cpn_freq\n",
    "    N = np.log(FV/Present_Value)/(np.log(1+cpn))\n",
    "    return round(N)\n",
    "\n",
    "    \n",
    "\n",
    "    \n",
    "\n",
    "\n",
    "\n",
    "    "
   ]
  },
  {
   "cell_type": "code",
   "execution_count": 275,
   "metadata": {},
   "outputs": [
    {
     "data": {
      "text/plain": [
       "'PV of bond is 2,004.51'"
      ]
     },
     "execution_count": 275,
     "metadata": {},
     "output_type": "execute_result"
    }
   ],
   "source": [
    "PV_Bond(2000,5.12,5,2,2)"
   ]
  }
 ],
 "metadata": {
  "kernelspec": {
   "display_name": "base",
   "language": "python",
   "name": "python3"
  },
  "language_info": {
   "codemirror_mode": {
    "name": "ipython",
    "version": 3
   },
   "file_extension": ".py",
   "mimetype": "text/x-python",
   "name": "python",
   "nbconvert_exporter": "python",
   "pygments_lexer": "ipython3",
   "version": "3.9.13"
  },
  "orig_nbformat": 4
 },
 "nbformat": 4,
 "nbformat_minor": 2
}
