{
 "cells": [
  {
   "attachments": {},
   "cell_type": "markdown",
   "metadata": {},
   "source": [
    "# Homework 1| Danny Stein\n",
    "\n"
   ]
  },
  {
   "cell_type": "code",
   "execution_count": 251,
   "metadata": {},
   "outputs": [],
   "source": [
    "import pandas as pd\n",
    "import numpy as np\n",
    "import datetime\n",
    "import warnings\n",
    "\n",
    "from sklearn.linear_model import LinearRegression\n",
    "import scipy.optimize as optimize\n",
    "\n",
    "import matplotlib.pyplot as plt\n",
    "%matplotlib inline\n",
    "plt.rcParams['figure.figsize'] = (12,6)\n",
    "plt.rcParams['font.size'] = 15\n",
    "plt.rcParams['legend.fontsize'] = 13\n",
    "import sys\n",
    "sys.path.insert(0,'C:/Users/dcste/OneDrive/fixed_income/Fixed_Income/treasury_cmds.py')\n",
    "from treasury_cmds import *"
   ]
  },
  {
   "cell_type": "code",
   "execution_count": 252,
   "metadata": {},
   "outputs": [
    {
     "data": {
      "text/html": [
       "<div>\n",
       "<style scoped>\n",
       "    .dataframe tbody tr th:only-of-type {\n",
       "        vertical-align: middle;\n",
       "    }\n",
       "\n",
       "    .dataframe tbody tr th {\n",
       "        vertical-align: top;\n",
       "    }\n",
       "\n",
       "    .dataframe thead th {\n",
       "        text-align: right;\n",
       "    }\n",
       "</style>\n",
       "<table border=\"1\" class=\"dataframe\">\n",
       "  <thead>\n",
       "    <tr style=\"text-align: right;\">\n",
       "      <th></th>\n",
       "      <th>KYCRSPID_X</th>\n",
       "      <th>CALDT</th>\n",
       "      <th>TDBID</th>\n",
       "      <th>TDASK</th>\n",
       "      <th>TDNOMPRC</th>\n",
       "      <th>TDNOMPRC_FLG</th>\n",
       "      <th>TDSOURCR</th>\n",
       "      <th>TDACCINT</th>\n",
       "      <th>TDRETNUA</th>\n",
       "      <th>TDYLD</th>\n",
       "      <th>...</th>\n",
       "      <th>TFCALDT</th>\n",
       "      <th>TNOTICE</th>\n",
       "      <th>IYMCN</th>\n",
       "      <th>ITYPE</th>\n",
       "      <th>IUNIQ</th>\n",
       "      <th>ITAX</th>\n",
       "      <th>IFLWR</th>\n",
       "      <th>TBANKDT</th>\n",
       "      <th>TSTRIPELIG</th>\n",
       "      <th>TFRGNTGT</th>\n",
       "    </tr>\n",
       "    <tr>\n",
       "      <th>KYTREASNO</th>\n",
       "      <th></th>\n",
       "      <th></th>\n",
       "      <th></th>\n",
       "      <th></th>\n",
       "      <th></th>\n",
       "      <th></th>\n",
       "      <th></th>\n",
       "      <th></th>\n",
       "      <th></th>\n",
       "      <th></th>\n",
       "      <th></th>\n",
       "      <th></th>\n",
       "      <th></th>\n",
       "      <th></th>\n",
       "      <th></th>\n",
       "      <th></th>\n",
       "      <th></th>\n",
       "      <th></th>\n",
       "      <th></th>\n",
       "      <th></th>\n",
       "      <th></th>\n",
       "    </tr>\n",
       "  </thead>\n",
       "  <tbody>\n",
       "    <tr>\n",
       "      <th>207892</th>\n",
       "      <td>20221004.400000</td>\n",
       "      <td>2022-09-30</td>\n",
       "      <td>99.973333</td>\n",
       "      <td>99.973444</td>\n",
       "      <td>99.973389</td>\n",
       "      <td>M</td>\n",
       "      <td>I</td>\n",
       "      <td>0.000000</td>\n",
       "      <td>-1.389258e-07</td>\n",
       "      <td>0.000067</td>\n",
       "      <td>...</td>\n",
       "      <td>NaN</td>\n",
       "      <td>0</td>\n",
       "      <td>NaN</td>\n",
       "      <td>4</td>\n",
       "      <td>0</td>\n",
       "      <td>1</td>\n",
       "      <td>1</td>\n",
       "      <td>NaN</td>\n",
       "      <td>NaN</td>\n",
       "      <td>NaN</td>\n",
       "    </tr>\n",
       "    <tr>\n",
       "      <th>207774</th>\n",
       "      <td>20221006.400000</td>\n",
       "      <td>2022-09-30</td>\n",
       "      <td>99.960917</td>\n",
       "      <td>99.961083</td>\n",
       "      <td>99.961000</td>\n",
       "      <td>M</td>\n",
       "      <td>I</td>\n",
       "      <td>0.000000</td>\n",
       "      <td>-2.542594e-05</td>\n",
       "      <td>0.000065</td>\n",
       "      <td>...</td>\n",
       "      <td>NaN</td>\n",
       "      <td>0</td>\n",
       "      <td>NaN</td>\n",
       "      <td>4</td>\n",
       "      <td>0</td>\n",
       "      <td>1</td>\n",
       "      <td>1</td>\n",
       "      <td>NaN</td>\n",
       "      <td>NaN</td>\n",
       "      <td>NaN</td>\n",
       "    </tr>\n",
       "    <tr>\n",
       "      <th>207893</th>\n",
       "      <td>20221011.400000</td>\n",
       "      <td>2022-09-30</td>\n",
       "      <td>99.924986</td>\n",
       "      <td>99.925292</td>\n",
       "      <td>99.925139</td>\n",
       "      <td>M</td>\n",
       "      <td>I</td>\n",
       "      <td>0.000000</td>\n",
       "      <td>1.473347e-05</td>\n",
       "      <td>0.000068</td>\n",
       "      <td>...</td>\n",
       "      <td>NaN</td>\n",
       "      <td>0</td>\n",
       "      <td>NaN</td>\n",
       "      <td>4</td>\n",
       "      <td>0</td>\n",
       "      <td>1</td>\n",
       "      <td>1</td>\n",
       "      <td>NaN</td>\n",
       "      <td>NaN</td>\n",
       "      <td>NaN</td>\n",
       "    </tr>\n",
       "    <tr>\n",
       "      <th>207868</th>\n",
       "      <td>20221013.400000</td>\n",
       "      <td>2022-09-30</td>\n",
       "      <td>99.907556</td>\n",
       "      <td>99.907917</td>\n",
       "      <td>99.907736</td>\n",
       "      <td>M</td>\n",
       "      <td>I</td>\n",
       "      <td>0.000000</td>\n",
       "      <td>-8.270836e-05</td>\n",
       "      <td>0.000071</td>\n",
       "      <td>...</td>\n",
       "      <td>NaN</td>\n",
       "      <td>0</td>\n",
       "      <td>NaN</td>\n",
       "      <td>4</td>\n",
       "      <td>0</td>\n",
       "      <td>1</td>\n",
       "      <td>1</td>\n",
       "      <td>NaN</td>\n",
       "      <td>NaN</td>\n",
       "      <td>NaN</td>\n",
       "    </tr>\n",
       "    <tr>\n",
       "      <th>207430</th>\n",
       "      <td>20221015.201370</td>\n",
       "      <td>2022-09-30</td>\n",
       "      <td>99.921875</td>\n",
       "      <td>99.953125</td>\n",
       "      <td>99.937500</td>\n",
       "      <td>M</td>\n",
       "      <td>I</td>\n",
       "      <td>0.631148</td>\n",
       "      <td>3.735728e-05</td>\n",
       "      <td>0.000079</td>\n",
       "      <td>...</td>\n",
       "      <td>NaN</td>\n",
       "      <td>0</td>\n",
       "      <td>NaN</td>\n",
       "      <td>2</td>\n",
       "      <td>0</td>\n",
       "      <td>1</td>\n",
       "      <td>1</td>\n",
       "      <td>NaN</td>\n",
       "      <td>NaN</td>\n",
       "      <td>NaN</td>\n",
       "    </tr>\n",
       "  </tbody>\n",
       "</table>\n",
       "<p>5 rows × 37 columns</p>\n",
       "</div>"
      ],
      "text/plain": [
       "                KYCRSPID_X      CALDT      TDBID      TDASK   TDNOMPRC  \\\n",
       "KYTREASNO                                                                \n",
       "207892     20221004.400000 2022-09-30  99.973333  99.973444  99.973389   \n",
       "207774     20221006.400000 2022-09-30  99.960917  99.961083  99.961000   \n",
       "207893     20221011.400000 2022-09-30  99.924986  99.925292  99.925139   \n",
       "207868     20221013.400000 2022-09-30  99.907556  99.907917  99.907736   \n",
       "207430     20221015.201370 2022-09-30  99.921875  99.953125  99.937500   \n",
       "\n",
       "          TDNOMPRC_FLG TDSOURCR  TDACCINT      TDRETNUA     TDYLD  ...  \\\n",
       "KYTREASNO                                                          ...   \n",
       "207892               M        I  0.000000 -1.389258e-07  0.000067  ...   \n",
       "207774               M        I  0.000000 -2.542594e-05  0.000065  ...   \n",
       "207893               M        I  0.000000  1.473347e-05  0.000068  ...   \n",
       "207868               M        I  0.000000 -8.270836e-05  0.000071  ...   \n",
       "207430               M        I  0.631148  3.735728e-05  0.000079  ...   \n",
       "\n",
       "           TFCALDT  TNOTICE  IYMCN  ITYPE  IUNIQ ITAX IFLWR TBANKDT  \\\n",
       "KYTREASNO                                                             \n",
       "207892         NaN        0    NaN      4      0    1     1     NaN   \n",
       "207774         NaN        0    NaN      4      0    1     1     NaN   \n",
       "207893         NaN        0    NaN      4      0    1     1     NaN   \n",
       "207868         NaN        0    NaN      4      0    1     1     NaN   \n",
       "207430         NaN        0    NaN      2      0    1     1     NaN   \n",
       "\n",
       "          TSTRIPELIG TFRGNTGT  \n",
       "KYTREASNO                      \n",
       "207892           NaN      NaN  \n",
       "207774           NaN      NaN  \n",
       "207893           NaN      NaN  \n",
       "207868           NaN      NaN  \n",
       "207430           NaN      NaN  \n",
       "\n",
       "[5 rows x 37 columns]"
      ]
     },
     "execution_count": 252,
     "metadata": {},
     "output_type": "execute_result"
    }
   ],
   "source": [
    "df = pd.read_excel('C:/Users/dcste/OneDrive/fixed_income/Fixed_Income/treasury_quotes_2022-09-30.xlsx')\n",
    "df.columns = df.columns.str.upper()\n",
    "df.sort_values('TMATDT', inplace = True)\n",
    "df.set_index('KYTREASNO', inplace = True)\n",
    "df.head()"
   ]
  },
  {
   "cell_type": "code",
   "execution_count": 253,
   "metadata": {},
   "outputs": [
    {
     "data": {
      "text/plain": [
       "'These quotes are based on 2022-09-30'"
      ]
     },
     "execution_count": 253,
     "metadata": {},
     "output_type": "execute_result"
    }
   ],
   "source": [
    "t_check = df['CALDT'].values[0]\n",
    "if df['CALDT'].eq(t_check).all():\n",
    "    t_current = t_check\n",
    "else:\n",
    "    warnings.warn('Quotes are from multiple dates.')\n",
    "    t_current = None\n",
    "f'These quotes are based on {pd.to_datetime(t_current):%Y-%m-%d}'"
   ]
  },
  {
   "cell_type": "code",
   "execution_count": 254,
   "metadata": {},
   "outputs": [],
   "source": [
    "treasury_metrics = df.copy()[['TDATDT','TMATDT','TCOUPRT','TDYLD','TDDURATN','TDPUBOUT']]\n",
    "treasury_metrics.columns = ['issue date','maturity date','coupon rate','ytm','duration','outstanding']\n",
    "treasury_metrics['ytm'] *= 365\n",
    "treasury_metrics['duration'] /= 365\n",
    "treasury_metrics['outstanding'] *= 1e6\n",
    "treasury_metrics['ask-bid'] = df['TDASK'] - df['TDBID']\n",
    "treasury_metrics['next cashflow date'] = (calc_cashflows(df) != 0).idxmax(1)"
   ]
  },
  {
   "attachments": {},
   "cell_type": "markdown",
   "metadata": {},
   "source": [
    "# Problem 1\n",
    "\n",
    "## Part 1\n",
    "\n",
    "For each issue, calculate its time-to-maturity, quoted in number of years, based on the maturity dates. Assume a year has exactly 365.25 days. \n"
   ]
  },
  {
   "cell_type": "code",
   "execution_count": 255,
   "metadata": {},
   "outputs": [],
   "source": [
    "treasury_metrics['Maturity'] = get_maturity_delta(treasury_metrics['maturity date'],t_current)\n",
    "treasury_metrics['Maturity'].tail().to_frame('Maturity Dates')\n",
    "treasury_metrics['Periods'] = np.round(treasury_metrics['Maturity'] *2)"
   ]
  },
  {
   "attachments": {},
   "cell_type": "markdown",
   "metadata": {},
   "source": [
    "## Part 2\n",
    "\n",
    "- Calculate the dirty price for each bond issue as:\n",
    "\n",
    "    **price = $\\frac{1}{2}$ (TBID+TASK) + TDACCINT**"
   ]
  },
  {
   "cell_type": "code",
   "execution_count": 256,
   "metadata": {},
   "outputs": [
    {
     "data": {
      "text/html": [
       "<div>\n",
       "<style scoped>\n",
       "    .dataframe tbody tr th:only-of-type {\n",
       "        vertical-align: middle;\n",
       "    }\n",
       "\n",
       "    .dataframe tbody tr th {\n",
       "        vertical-align: top;\n",
       "    }\n",
       "\n",
       "    .dataframe thead th {\n",
       "        text-align: right;\n",
       "    }\n",
       "</style>\n",
       "<table border=\"1\" class=\"dataframe\">\n",
       "  <thead>\n",
       "    <tr style=\"text-align: right;\">\n",
       "      <th></th>\n",
       "      <th>Dirty Price</th>\n",
       "    </tr>\n",
       "    <tr>\n",
       "      <th>KYTREASNO</th>\n",
       "      <th></th>\n",
       "    </tr>\n",
       "  </thead>\n",
       "  <tbody>\n",
       "    <tr>\n",
       "      <th>207892</th>\n",
       "      <td>99.973389</td>\n",
       "    </tr>\n",
       "    <tr>\n",
       "      <th>207774</th>\n",
       "      <td>99.961000</td>\n",
       "    </tr>\n",
       "    <tr>\n",
       "      <th>207893</th>\n",
       "      <td>99.925139</td>\n",
       "    </tr>\n",
       "    <tr>\n",
       "      <th>207868</th>\n",
       "      <td>99.907736</td>\n",
       "    </tr>\n",
       "    <tr>\n",
       "      <th>207430</th>\n",
       "      <td>100.568648</td>\n",
       "    </tr>\n",
       "    <tr>\n",
       "      <th>...</th>\n",
       "      <td>...</td>\n",
       "    </tr>\n",
       "    <tr>\n",
       "      <th>207808</th>\n",
       "      <td>66.640625</td>\n",
       "    </tr>\n",
       "    <tr>\n",
       "      <th>207849</th>\n",
       "      <td>72.718750</td>\n",
       "    </tr>\n",
       "    <tr>\n",
       "      <th>207850</th>\n",
       "      <td>62.910156</td>\n",
       "    </tr>\n",
       "    <tr>\n",
       "      <th>207891</th>\n",
       "      <td>84.726562</td>\n",
       "    </tr>\n",
       "    <tr>\n",
       "      <th>207934</th>\n",
       "      <td>86.507812</td>\n",
       "    </tr>\n",
       "  </tbody>\n",
       "</table>\n",
       "<p>427 rows × 1 columns</p>\n",
       "</div>"
      ],
      "text/plain": [
       "           Dirty Price\n",
       "KYTREASNO             \n",
       "207892       99.973389\n",
       "207774       99.961000\n",
       "207893       99.925139\n",
       "207868       99.907736\n",
       "207430      100.568648\n",
       "...                ...\n",
       "207808       66.640625\n",
       "207849       72.718750\n",
       "207850       62.910156\n",
       "207891       84.726562\n",
       "207934       86.507812\n",
       "\n",
       "[427 rows x 1 columns]"
      ]
     },
     "execution_count": 256,
     "metadata": {},
     "output_type": "execute_result"
    }
   ],
   "source": [
    "treasury_metrics['price'] = .5*(df['TDBID'] + df['TDASK']) + df['TDACCINT']\n",
    "treasury_metrics['price'].to_frame(\"Dirty Price\")"
   ]
  },
  {
   "attachments": {},
   "cell_type": "markdown",
   "metadata": {},
   "source": [
    "## Yield-to-Maturity\n",
    "\n",
    "- Calculate YTM for every bond issue. Sunday try to write a python function to calculate yield to maturity."
   ]
  },
  {
   "cell_type": "code",
   "execution_count": 257,
   "metadata": {},
   "outputs": [
    {
     "data": {
      "text/plain": [
       "0.04193184471875915"
      ]
     },
     "execution_count": 257,
     "metadata": {},
     "output_type": "execute_result"
    }
   ],
   "source": [
    "def price(coupon_rate, periods, ytm, par = 100, freq = 2):\n",
    "    if periods != 0:\n",
    "        cfs = [(coupon_rate/freq)*(par/100)/(1+(ytm/freq)**(i+1)) for i in range(periods)]\n",
    "        discounted_face = par/(1+(ytm/freq))**periods\n",
    "        return sum(cfs) + discounted_face\n",
    "    else:\n",
    "        return par\n",
    "def ytm(coupon_rate, periods,_price, par = 100, freq = 2):\n",
    "    if periods != 0:\n",
    "        return optimize.newton(lambda y: price(coupon_rate, periods, y)-_price,.1, maxiter= 1000)\n",
    "    else:\n",
    "        return (par/_price)-1\n",
    "\n",
    "ytm(1.5,9,89.7)"
   ]
  },
  {
   "cell_type": "code",
   "execution_count": 258,
   "metadata": {},
   "outputs": [
    {
     "data": {
      "text/plain": [
       "issue date       2021-09-30 00:00:00\n",
       "maturity date    2026-09-30 00:00:00\n",
       "Name: 207777, dtype: object"
      ]
     },
     "execution_count": 258,
     "metadata": {},
     "output_type": "execute_result"
    }
   ],
   "source": [
    "treasury_metrics.loc[207777,['issue date','maturity date']]"
   ]
  },
  {
   "cell_type": "code",
   "execution_count": 259,
   "metadata": {},
   "outputs": [],
   "source": [
    "for i in treasury_metrics.index:\n",
    "    coupon_r = treasury_metrics.loc[i,'coupon rate']\n",
    "    p = treasury_metrics.loc[i,'Periods'].astype('int')\n",
    "    PRICE = treasury_metrics.loc[i,'price']\n",
    "    treasury_metrics.loc[i,'YLD']  = ytm(coupon_rate = coupon_r, periods =p,_price = PRICE)"
   ]
  },
  {
   "cell_type": "code",
   "execution_count": 260,
   "metadata": {},
   "outputs": [],
   "source": [
    "treasury_metrics = treasury_metrics[(treasury_metrics['YLD'] >= 0) & (treasury_metrics['YLD'] < 1) ]\n"
   ]
  },
  {
   "cell_type": "code",
   "execution_count": 261,
   "metadata": {},
   "outputs": [
    {
     "data": {
      "text/plain": [
       "<matplotlib.collections.PathCollection at 0x2298d50a940>"
      ]
     },
     "execution_count": 261,
     "metadata": {},
     "output_type": "execute_result"
    },
    {
     "data": {
      "image/png": "[encoded data removed]",
      "text/plain": [
       "<Figure size 1200x600 with 1 Axes>"
      ]
     },
     "metadata": {},
     "output_type": "display_data"
    }
   ],
   "source": [
    "fig = plt.figure()\n",
    "ax = fig.add_subplot(1,1,1)\n",
    "ax.set_title('Price vs Maturity Date')\n",
    "ax.scatter(treasury_metrics['maturity date'], treasury_metrics['price'])"
   ]
  },
  {
   "cell_type": "code",
   "execution_count": 262,
   "metadata": {},
   "outputs": [
    {
     "data": {
      "text/plain": [
       "<matplotlib.collections.PathCollection at 0x22995a379d0>"
      ]
     },
     "execution_count": 262,
     "metadata": {},
     "output_type": "execute_result"
    },
    {
     "data": {
      "image/png": "[encoded data removed]",
      "text/plain": [
       "<Figure size 1200x600 with 1 Axes>"
      ]
     },
     "metadata": {},
     "output_type": "display_data"
    }
   ],
   "source": [
    "fig = plt.figure()\n",
    "ax = fig.add_subplot(1,1,1)\n",
    "ax.set_title('Yield vs Maturity Date')\n",
    "ax.scatter(treasury_metrics['maturity date'], treasury_metrics['YLD'])"
   ]
  },
  {
   "cell_type": "code",
   "execution_count": 264,
   "metadata": {},
   "outputs": [
    {
     "data": {
      "text/plain": [
       "0.44672944625729455"
      ]
     },
     "execution_count": 264,
     "metadata": {},
     "output_type": "execute_result"
    }
   ],
   "source": [
    "treasury_metrics['YLD'].corr(treasury_metrics['ytm'])"
   ]
  }
 ],
 "metadata": {
  "kernelspec": {
   "display_name": "base",
   "language": "python",
   "name": "python3"
  },
  "language_info": {
   "codemirror_mode": {
    "name": "ipython",
    "version": 3
   },
   "file_extension": ".py",
   "mimetype": "text/x-python",
   "name": "python",
   "nbconvert_exporter": "python",
   "pygments_lexer": "ipython3",
   "version": "3.9.13"
  },
  "orig_nbformat": 4,
  "vscode": {
   "interpreter": {
    "hash": "44a761cc06a695ddb39d99b7e807436f731f960c127538853a5b90f596df33e4"
   }
  }
 },
 "nbformat": 4,
 "nbformat_minor": 2
}
